{
 "cells": [
  {
   "cell_type": "markdown",
   "metadata": {},
   "source": [
    "## Image Test\n",
    "\n",
    "[위키독스](http://wikidocs.net)\n",
    "\n",
    "![위키독스 로고](http://wikidocs.net/images/book/wikidocs.png)    \n",
    "기본 이미지 표시(정렬 없음)\n",
    "\n",
    "<p align=\"left\">\n",
    "    <img src=\"http://wikidocs.net/images/book/wikidocs.png\"> \n",
    "</p>\n",
    "왼쪽 정렬 \n",
    "\n",
    "<img align=\"left\"  src=\"http://wikidocs.net/images/book/wikidocs.png\" style=\"margin-right:10px\"> 왼쪽 삽입 \n",
    "\n",
    "```python\n",
    "def sum(a, b):\n",
    "    return a+b\n",
    "```\n",
    "```java\n",
    "class Test {\n",
    "    public static void main(String[] args) {\n",
    "        System.out.pritnln(\"hello world\");\n",
    "    }\n",
    "}\n",
    "```\n",
    "\n",
    "head1 |head2\n",
    ":----|----:\n",
    "hello |foo\n",
    "hi    |bar"
   ]
  }
 ],
 "metadata": {
  "kernelspec": {
   "display_name": "Python 3",
   "language": "python",
   "name": "python3"
  },
  "language_info": {
   "codemirror_mode": {
    "name": "ipython",
    "version": 3
   },
   "file_extension": ".py",
   "mimetype": "text/x-python",
   "name": "python",
   "nbconvert_exporter": "python",
   "pygments_lexer": "ipython3",
   "version": "3.11.4"
  }
 },
 "nbformat": 4,
 "nbformat_minor": 2
}
