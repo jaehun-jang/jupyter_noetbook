{
 "cells": [
  {
   "cell_type": "markdown",
   "metadata": {},
   "source": [
    "| Import Pandas"
   ]
  },
  {
   "cell_type": "code",
   "execution_count": null,
   "metadata": {},
   "outputs": [],
   "source": [
    "import pandas as pd"
   ]
  },
  {
   "cell_type": "markdown",
   "metadata": {},
   "source": [
    "| Read CSV File\n",
    "\n",
    "    pd.read_csv(FilePath, sep, header, names, index_col, skiprows, nrows, encoding, comment, chunksize) \n",
    "        FilePath : 읽을 파일 Path, URL 도 가능  \n",
    "        sep : 구분자 입력, Default 는 쉼표(',')  \n",
    "        header : 파일의 데이터에 header가 없을 경우 none 입력, Default는 header 읽음  \n",
    "        names : 파일의 데이터에 header가 없을 경우에 명시적으로 컬럼명 입력 가능  \n",
    "        skiprows : 입력한 개수 만큼 파일에서 행을 건너뛰고 읽음  \n",
    "        index_col : 명시한 특정 컬럼을 index로 사용  \n",
    "        nrows : 파일 최상위에서부터 입력한 개수만큼의 데이터만 읽음  \n",
    "        encoding : 파일의 문자 인코딩 타입 입력, 한글이면 'CP949'  \n",
    "        comment : 특정 문자는 주석으로 간주하고 읽지 않음  \n",
    "        chunksize : TextFileReader가 입력받을 데이터 개수 Return하여 특정 개수 만큼 순서대로 읽음(뒤에 예시 참고)  "
   ]
  },
  {
   "cell_type": "code",
   "execution_count": null,
   "metadata": {},
   "outputs": [],
   "source": [
    "df = pd.read_csv(r'E:\\Standard_Test_Procedure\\Test Result\\M6424\\Auto_result\\header.csv')\n",
    "print(df)"
   ]
  },
  {
   "cell_type": "markdown",
   "metadata": {},
   "source": [
    "| Read Excel File \n",
    "\n",
    "    read_excel 함수를 이용하여 excel 파일을 읽어 올 수 있으며 대부분의 옵션들은 read_csv와 동일합니다.\n",
    "        read_excel(Path, sheet_name)  \n",
    "        Path : excel 파일 경로  \n",
    "        sheet_name : 읽을 Sheet name 명시  "
   ]
  },
  {
   "cell_type": "code",
   "execution_count": null,
   "metadata": {},
   "outputs": [],
   "source": [
    "file_path = r'E:\\Standard_Test_Procedure\\Test Result\\M6424\\Auto_result\\header.xlsx'\n",
    "sheet_name = 'STP'  # 시트 이름을 문자열로 지정\n",
    "\n",
    "# Excel 파일 읽기, 첫 번째 Sheet\n",
    "df = pd.read_excel(file_path, skiprows = 9, sheet_name=sheet_name) \n",
    "print(df)"
   ]
  },
  {
   "cell_type": "markdown",
   "metadata": {},
   "source": [
    "| Read Entire Excel File AND WRITE"
   ]
  },
  {
   "cell_type": "code",
   "execution_count": null,
   "metadata": {},
   "outputs": [],
   "source": [
    "import pandas as pd\n",
    "\n",
    "# Read all sheets into a dictionary\n",
    "with pd.ExcelFile(r'E:\\Standard_Test_Procedure\\Test Result\\M6424\\Auto_result\\header.xlsx') as file_name:\n",
    "    df_dict = pd.read_excel(file_name, sheet_name=None)\n",
    "    \n",
    "print(df_dict)\n",
    "\n",
    "# Create a new Excel file\n",
    "with pd.ExcelWriter(r'E:\\Standard_Test_Procedure\\Test Result\\M6424\\Auto_result\\entire.xlsx',engine='openpyxl') as writer:\n",
    "    # Iterate through the dictionary and write each DataFrame to the Excel file\n",
    "    for sheet_name, df in df_dict.items():\n",
    "        df.to_excel(writer, sheet_name=sheet_name, index=False)"
   ]
  },
  {
   "cell_type": "markdown",
   "metadata": {},
   "source": [
    "| Read Excel Sheet by List"
   ]
  },
  {
   "cell_type": "code",
   "execution_count": null,
   "metadata": {},
   "outputs": [],
   "source": [
    "\n",
    "df = pd.read_excel(r'E:\\Standard_Test_Procedure\\Test Result\\M6424\\Auto_result\\header.xlsx', sheet_name=['Summary','STP'])\n",
    "print(df['Summary'])\n",
    "print(df['STP'])"
   ]
  },
  {
   "cell_type": "markdown",
   "metadata": {},
   "source": [
    "| Read Specific Excel Sheet"
   ]
  },
  {
   "cell_type": "code",
   "execution_count": null,
   "metadata": {},
   "outputs": [],
   "source": [
    "df = pd.read_excel(r'E:\\Standard_Test_Procedure\\Test Result\\M6424\\Auto_result\\header.xlsx', sheet_name=\"STP\")\n",
    "print(df)"
   ]
  },
  {
   "cell_type": "markdown",
   "metadata": {},
   "source": [
    "| excel 파일 수정하기 - 데이터 프레임 조작"
   ]
  },
  {
   "cell_type": "markdown",
   "metadata": {},
   "source": [
    "| Single spreadsheet"
   ]
  },
  {
   "cell_type": "code",
   "execution_count": null,
   "metadata": {},
   "outputs": [],
   "source": [
    "import pandas as pd\n",
    "\n",
    "# Daraframe형식으로 엑셀 파일 읽기\n",
    "df = pd.read_excel(r'E:\\Standard_Test_Procedure\\Test Result\\M6424\\Auto_result\\class_a.xlsx',sheet_name='A반')\n",
    "\n",
    "# 데이터 프레임 출력\n",
    "print(df)\n",
    "\n",
    "\n",
    "class_a_df = df\n",
    "# 1번 행 (홍길동)의 나이를 49로 변경\n",
    "class_a_df.loc[0, '나이'] = 49\n",
    "# 데이터 프레임 출력\n",
    "print(df)\n",
    "\n",
    "with pd.ExcelWriter(r'E:\\Standard_Test_Procedure\\Test Result\\M6424\\Auto_result\\class_a_r.xlsx',engine='openpyxl') as writer:\n",
    "    df.to_excel(writer, sheet_name=sheet_name, index=False)"
   ]
  },
  {
   "cell_type": "markdown",
   "metadata": {},
   "source": [
    "| Multi spreadsheet with sheet_name and without index"
   ]
  },
  {
   "cell_type": "code",
   "execution_count": null,
   "metadata": {},
   "outputs": [],
   "source": [
    "import pandas as pd\n",
    "\n",
    "# 엑셀 파일을 DataFrame으로 읽어옵니다.\n",
    "file_name = pd.ExcelFile(r'E:\\Standard_Test_Procedure\\Test Result\\M6424\\Auto_result\\class_a_b.xlsx')\n",
    "\n",
    "# 각 시트를 DataFrame으로 읽어옵니다.\n",
    "df_dict = pd.read_excel(file_name, sheet_name=['A반', 'B반'], engine='openpyxl')\n",
    "# df_dict = pd.read_excel(file_name, sheet_name=['A반', 'B반']')\n",
    "\n",
    "# Daraframe형식으로 엑셀 파일 읽기\n",
    "# df_dict = pd.read_excel(r'E:\\Standard_Test_Procedure\\Test Result\\M6424\\class_a_b.xlsx', sheet_name=['A반','B반'])\n",
    "\n",
    "# 데이터 프레임 출력\n",
    "print(df_dict['A반'],df_dict['B반'])\n",
    "\n",
    "# 'A반' 데이터 프레임을 얻습니다.\n",
    "class_a_df = df_dict['A반']\n",
    "# 1번 행 (홍길동)의 나이를 49로 변경\n",
    "class_a_df.loc[1, '나이'] = 55\n",
    "# 수정된 데이터 프레임 출력\n",
    "print(df_dict['A반'])\n",
    "\n",
    "# 'B반' 데이터 프레임을 얻습니다.\n",
    "class_b_df = df_dict['B반']\n",
    "# 1번 행 (신동엽)의 지역을 '제주'로 변경\n",
    "class_b_df.loc[0, '지역'] = '울릉도/독도'\n",
    "# 수정된 데이터 프레임 출력\n",
    "print(df_dict['B반'])\n",
    "\n",
    "# 수정된 데이터를 새로운 엑셀 파일로 저장\n",
    "# with pd.ExcelWriter(file_name) as writer:\n",
    "with pd.ExcelWriter(r'E:\\Standard_Test_Procedure\\Test Result\\M6424\\Auto_result\\class_a_b_r.xlsx',engine='openpyxl') as writer:\n",
    "    for sheet_name, df in df_dict.items():\n",
    "        df.to_excel(writer, sheet_name=sheet_name, index=False) # index=False 는 앞쪽 인덱스 제거.\n"
   ]
  },
  {
   "cell_type": "markdown",
   "metadata": {},
   "source": [
    "| TEST SHEET UPDATE (LOC,AT) WITH HEADER\n",
    "HEADER OPTION을 이용하여 행과 HEADER 정보를 사용 한다."
   ]
  },
  {
   "cell_type": "code",
   "execution_count": null,
   "metadata": {},
   "outputs": [],
   "source": [
    "import pandas as pd\n",
    "import time\n",
    "\n",
    "# now = time.strftime(\"%Y-%m-%d %H\")   '%y%m%d - %X' # 현재 시간을 형식화하여 문자열로 저장\n",
    "now = time.strftime(\"%y%m%d - %X\")\n",
    "sheet_name = 'STP'  # 시트 이름을 문자열로 지정\n",
    "\n",
    "# 엑셀 파일을 DataFrame으로 읽어옵니다.\n",
    "with pd.ExcelFile(r'E:\\Standard_Test_Procedure\\Test Result\\M6424\\Auto_result\\header.xlsx') as file_name:\n",
    "   # Excel 파일 읽기\n",
    "   df = pd.read_excel(file_name, sheet_name=sheet_name, header=9)\n",
    "   print(df)\n",
    "\n",
    "# 1번 행의 결과, 테스트 날짜, 테스터 및 빌드 정보를 변경\n",
    "df.loc[1, '1st Result'] = 'FAIL'\n",
    "df.loc[1, 'Tested Date'] = pd.to_datetime(now)\n",
    "df.at[1, 'Tester'] = 'Automation'\n",
    "df.at[1, 'Tesed Build'] = 'v2.4.2.1'\n",
    "\n",
    "print(df)\n",
    "\n",
    "# 수정된 데이터를 새로운 엑셀 파일로 저장\n",
    "with pd.ExcelWriter(r'E:\\Standard_Test_Procedure\\Test Result\\M6424\\Auto_result\\result.xlsx',engine='openpyxl') as writer:\n",
    "   df.to_excel(writer, sheet_name=sheet_name, index=False)"
   ]
  },
  {
   "cell_type": "markdown",
   "metadata": {},
   "source": [
    "| TEST SHEET UPDATE (ILOC,IAT) WITHOUT \n",
    "HEADER OPTION을 이용하지 않고 행과 열의 인덱스를 사용 한다."
   ]
  },
  {
   "cell_type": "code",
   "execution_count": null,
   "metadata": {},
   "outputs": [],
   "source": [
    "import pandas as pd\n",
    "import time\n",
    "\n",
    "# now = time.strftime(\"%Y-%m-%d %H\")   '%y%m%d - %X' # 현재 시간을 형식화하여 문자열로 저장\n",
    "now = time.strftime(\"%y%m%d - %X\")\n",
    "sheet_name = 'STP'  # 시트 이름을 문자열로 지정\n",
    "    \n",
    "# # 엑셀 파일을 DataFrame으로 읽어들인 후 Excel 파일 읽기\n",
    "with pd.ExcelFile(r'E:\\Standard_Test_Procedure\\Test Result\\M6424\\Auto_result\\header.xlsx') as file:\n",
    "    df = pd.read_excel(file, sheet_name=sheet_name)    \n",
    "# df = pd.read_excel(file_name, sheet_name=sheet_name, header=9)\n",
    "print(df)\n",
    "\n",
    "# 1번 행의 결과, 테스트 날짜, 테스터 및 빌드 정보를 변경\n",
    "df.iloc[9, 2] = 'FAIL'\n",
    "df.iloc[9, 5] = pd.to_datetime(now)\n",
    "df.iat[9, 6] = 'Automation'\n",
    "df.iat[9, 7] = 'v2.4.2.1'\n",
    "\n",
    "print(df)\n",
    "\n",
    "# 수정된 데이터를 새로운 엑셀 파일로 저장\n",
    "with pd.ExcelWriter(r'E:\\Standard_Test_Procedure\\Test Result\\M6424\\Auto_result\\result.xlsx',engine='openpyxl') as writer:\n",
    "   df.to_excel(writer, sheet_name=sheet_name, index=False)\n",
    "   \n"
   ]
  },
  {
   "cell_type": "markdown",
   "metadata": {},
   "source": [
    "| FINAL CODE TO UPDATE TEST RESULT WITH NEW FILE CREATION   \n",
    "EXCEL FILE 전체를 읽어 들이고 그중 STP SHEET 만 UPDATE 후 전체 EXCEL FILE을 새로 생성하며 비 효율 적이다."
   ]
  },
  {
   "cell_type": "code",
   "execution_count": null,
   "metadata": {},
   "outputs": [],
   "source": [
    "import pandas as pd\n",
    "import time\n",
    "\n",
    "# Read all sheets into a dictionary\n",
    "with pd.ExcelFile(r'E:\\Standard_Test_Procedure\\Test Result\\M6424\\Auto_result\\header.xlsx') as file_name:\n",
    "    df_dict = pd.read_excel(file_name, sheet_name=None)\n",
    "    \n",
    "sheet_name = 'STP'  # 시트 이름을 문자열로 지정\n",
    "df = df_dict[sheet_name]\n",
    "\n",
    "# 1번 행의 결과, 테스트 날짜, 테스터 및 빌드 정보를 변경\n",
    "df.iloc[9, 2] = 'FAIL'\n",
    "df.iloc[9, 5] = pd.to_datetime(time.strftime(\"%y%m%d - %X\"))\n",
    "df.iat[9, 6] = 'Automation'\n",
    "df.iat[9, 7] = 'v2.4.2.1'\n",
    "\n",
    "\n",
    "# Create a new Excel file\n",
    "with pd.ExcelWriter(r'E:\\Standard_Test_Procedure\\Test Result\\M6424\\Auto_result\\entire.xlsx',engine='openpyxl') as writer:\n",
    "    # Iterate through the dictionary and write each DataFrame to the Excel file\n",
    "    for sheet_name, df in df_dict.items():\n",
    "        df.to_excel(writer, sheet_name=sheet_name, index=False)\n"
   ]
  },
  {
   "cell_type": "markdown",
   "metadata": {},
   "source": [
    "|FINAL CODE TO UPDATE TEST RESULT WITH REPLACE\n",
    "기존 EXCEL FILE 에서 STP SHEET 만 읽어 들이고 UPDATE 후 SHEET만 UPDATE 한다, 가장 효율 적이다."
   ]
  },
  {
   "cell_type": "code",
   "execution_count": null,
   "metadata": {},
   "outputs": [],
   "source": [
    "import pandas as pd\n",
    "import time\n",
    "\n",
    "# Read the Excel file and get the specific sheet\n",
    "file_path = r'E:\\Standard_Test_Procedure\\Test Result\\M6424\\Auto_result\\header.xlsx'\n",
    "sheet_name = 'STP'\n",
    "df = pd.read_excel(file_path, sheet_name=sheet_name)\n",
    "\n",
    "print(df)\n",
    "\n",
    "# Update the data in the specific sheet\n",
    "df.iloc[9, 2] = 'FAIL'\n",
    "df.iloc[9, 5] = pd.to_datetime(time.strftime(\"%y%m%d - %X\"))\n",
    "df.iat[9, 6] = 'Automation'\n",
    "df.iat[9, 7] = 'v2.4.2.1'\n",
    "\n",
    "print(df)\n",
    "\n",
    "# Save the modified DataFrame back to the original Excel file\n",
    "with pd.ExcelWriter(file_path, engine='openpyxl', mode='a', if_sheet_exists='replace') as writer:\n",
    "    df.to_excel(writer, sheet_name=sheet_name, index=False)"
   ]
  },
  {
   "cell_type": "code",
   "execution_count": null,
   "metadata": {},
   "outputs": [],
   "source": [
    "import pandas as pd\n",
    "\n",
    "# Read the Excel file and get the specific sheet\n",
    "file_path = r'E:\\Standard_Test_Procedure\\Test Result\\M6424\\Auto_result\\header.xlsx'\n",
    "sheet_name = 'STP'\n",
    "df = pd.read_excel(file_path, sheet_name=sheet_name)\n",
    "\n",
    "# Replace a specific cell value\n",
    "row_index = 9\n",
    "column_name = 'YourColumnName'  # Replace with the actual column name\n",
    "new_value = 'YourNewValue'  # Replace with the value you want to set\n",
    "\n",
    "# Using .at for label-based indexing\n",
    "df.iat[9, 2] = new_value\n",
    "\n",
    "# Save the modified DataFrame back to the original Excel file\n",
    "with pd.ExcelWriter(file_path, engine='openpyxl', mode='a', if_sheet_exists='replace') as writer:\n",
    "    # Write only the modified sheet\n",
    "    df.to_excel(writer, sheet_name=sheet_name, index=False)"
   ]
  }
 ],
 "metadata": {
  "kernelspec": {
   "display_name": "Python 3",
   "language": "python",
   "name": "python3"
  },
  "language_info": {
   "codemirror_mode": {
    "name": "ipython",
    "version": 3
   },
   "file_extension": ".py",
   "mimetype": "text/x-python",
   "name": "python",
   "nbconvert_exporter": "python",
   "pygments_lexer": "ipython3",
   "version": "3.11.4"
  }
 },
 "nbformat": 4,
 "nbformat_minor": 2
}
