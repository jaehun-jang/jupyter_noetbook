{
 "cells": [
  {
   "cell_type": "markdown",
   "metadata": {},
   "source": [
    "### Test Item  \n",
    "    |BASIC FUNCTION TEST\n"
   ]
  },
  {
   "cell_type": "markdown",
   "metadata": {},
   "source": [
    "#### Netmiko Connection Function"
   ]
  },
  {
   "cell_type": "code",
   "execution_count": null,
   "metadata": {},
   "outputs": [],
   "source": [
    "from netmiko import ConnectHandler\n",
    "import sys ,time\n",
    "import pandas as pd\n",
    "\n",
    "### ++++++++++++++++++++++++++++++ ###\n",
    "### GLOBAL VARIABLES ###\n",
    "result = []\n",
    "dut1 = '192.168.0.201'\n",
    "dut2 = '192.168.0.202'\n",
    "dut3 = '192.168.0.203'\n",
    "dut1and2 = ['192.168.0.201','192.168.0.202']\n",
    "devAll = ['192.168.0.201','192.168.0.202','192.168.0.203']\n",
    "nni = '1/25'\n",
    "lagint = ['1/15','1/16']\n",
    "blockport = '1/6,1/10-1/16'\n",
    "stpblockport = '1/25'\n",
    "\n",
    "###### Element of Main Function  ######\n",
    "\n",
    "def disTitle(devices,Title):\n",
    "    for host in devices: \n",
    "        with connect(host) as child:\n",
    "            child.send_command(Title)\n",
    "\n",
    "\n",
    "### netmiko connection ### \n",
    "def connect(host):\n",
    "    login ={\n",
    "        'device_type':'cisco_ios',\n",
    "        'ip': host, \n",
    "        'username':'root', \n",
    "        'password':'admin',\n",
    "        'session_timeout': 120,\n",
    "        'timeout': 120,\n",
    "        'global_delay_factor': 2,\n",
    "        }\n",
    "    device = ConnectHandler(**login)\n",
    "    device.enable() ## Enable mode ##\n",
    "    return device\n",
    "\n",
    "### Send CLI in configuration mode ###          \n",
    "def sendConfigSet(host,command):\n",
    "    with connect(host) as child:\n",
    "        child.send_config_set(command)\n",
    "        time.sleep(2)\n",
    "\n",
    "def disSubTitle(child,Title):\n",
    "    print(child.send_command(Title))\n"
   ]
  },
  {
   "cell_type": "markdown",
   "metadata": {},
   "source": [
    "#### BASIC Configuration Function"
   ]
  },
  {
   "cell_type": "markdown",
   "metadata": {},
   "source": [
    "### TCPDUMP"
   ]
  },
  {
   "cell_type": "code",
   "execution_count": null,
   "metadata": {},
   "outputs": [],
   "source": [
    "def tcpdump(dut1): \n",
    "    value_to_check = '192.168.0.201.ssh'\n",
    "    with connect(dut1) as child: \n",
    "        tcpdump_output = child.send_command('tcpdump -vi eth0', expect_string='length')\n",
    "        time.sleep(1) \n",
    "        # print(tcpdump_output)\n",
    "        child.write_channel('\\x03')\n",
    "        cmd_list = tcpdump_output.splitlines() \n",
    "        print(cmd_list)\n",
    "        for line in cmd_list:\n",
    "            result = line.split()        \n",
    "            print(result)\n",
    "            if value_to_check in line:\n",
    "                return True\n",
    "        else:\n",
    "            return False\n",
    "\n",
    "result = tcpdump(dut1)\n",
    "\n",
    "print('Result is:', result)\n"
   ]
  }
 ],
 "metadata": {
  "kernelspec": {
   "display_name": "Python 3",
   "language": "python",
   "name": "python3"
  },
  "language_info": {
   "codemirror_mode": {
    "name": "ipython",
    "version": 3
   },
   "file_extension": ".py",
   "mimetype": "text/x-python",
   "name": "python",
   "nbconvert_exporter": "python",
   "pygments_lexer": "ipython3",
   "version": "3.11.4"
  }
 },
 "nbformat": 4,
 "nbformat_minor": 2
}
