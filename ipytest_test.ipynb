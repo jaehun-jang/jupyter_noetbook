{
 "cells": [
  {
   "cell_type": "markdown",
   "metadata": {},
   "source": [
    "Setup"
   ]
  },
  {
   "cell_type": "code",
   "execution_count": null,
   "metadata": {},
   "outputs": [],
   "source": [
    "# Set the file name (required)\n",
    "__file__ = 'testing.ipynb'\n",
    "\n",
    "# Add ipython magics\n",
    "# Add ipython magics\n",
    "import ipytest\n",
    "import pytest\n",
    "\n",
    "ipytest.autoconfig()"
   ]
  },
  {
   "cell_type": "markdown",
   "metadata": {},
   "source": [
    "Test Case"
   ]
  },
  {
   "cell_type": "code",
   "execution_count": null,
   "metadata": {},
   "outputs": [],
   "source": [
    "%%ipytest\n",
    "\n",
    "def test_sorted():\n",
    "    assert sorted([4, 2, 1, 3]) == [1, 2, 3, 4]"
   ]
  },
  {
   "cell_type": "markdown",
   "metadata": {},
   "source": [
    "Test Fixture"
   ]
  },
  {
   "cell_type": "code",
   "execution_count": null,
   "metadata": {},
   "outputs": [],
   "source": [
    "%%ipytest\n",
    "\n",
    "@pytest.fixture\n",
    "def dict_list():\n",
    "    return [\n",
    "        dict(a='a', b=3),\n",
    "        dict(a='c', b=1),\n",
    "        dict(a='b', b=2),\n",
    "    ]\n",
    "\n",
    "\n",
    "def test_sorted__key_example_1(dict_list):\n",
    "    assert sorted(dict_list, key=lambda d: d['a']) == [\n",
    "        dict(a='a', b=3),\n",
    "        dict(a='b', b=2),\n",
    "        dict(a='c', b=1),\n",
    "    ]\n",
    "\n",
    "\n",
    "def test_sorted__key_example_2(dict_list):\n",
    "    assert sorted(dict_list, key=lambda d: d['b']) == [\n",
    "        dict(a='c', b=1),\n",
    "        dict(a='b', b=2),\n",
    "        dict(a='a', b=3),\n",
    "    ]"
   ]
  },
  {
   "cell_type": "markdown",
   "metadata": {},
   "source": [
    "Test parameterisation"
   ]
  },
  {
   "cell_type": "code",
   "execution_count": null,
   "metadata": {},
   "outputs": [],
   "source": [
    "%%ipytest\n",
    "\n",
    "@pytest.mark.parametrize('input,expected', [\n",
    "    ([2, 1], [1, 2]),\n",
    "    ('zasdqw', list('adqswz')),\n",
    "])\n",
    "def test_examples(input, expected):\n",
    "    actual = sorted(input)\n",
    "    assert actual == expected"
   ]
  }
 ],
 "metadata": {
  "kernelspec": {
   "display_name": "Python 3",
   "language": "python",
   "name": "python3"
  },
  "language_info": {
   "name": "python",
   "version": "3.11.4"
  }
 },
 "nbformat": 4,
 "nbformat_minor": 2
}
