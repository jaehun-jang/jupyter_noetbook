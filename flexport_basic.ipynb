{
 "cells": [
  {
   "cell_type": "markdown",
   "metadata": {},
   "source": [
    "# Test Item\n",
    "    ## FLEXPORT BASIC FUNCTION TEST\n",
    "        # [1]Check Detach \n",
    "        # [2]Check Attach \n",
    "        # [3]Change the flexport type to CPRI \n",
    "        # [4]Change the CPRI Speed to CPRI10\n",
    "        # [5]Change the CPRI Speed to CPRI7\n",
    "        # [6]Change the CPRI Speed to CPRI5 \n",
    "        # [7]Change the CPRI Speed to CPRI3\n",
    "        # [8]Change the CPRI Speed to CPRI8\n",
    "        *Restore the CPRI Speed to CPRI7 \n",
    "        # [9]Change the flexport type to Ethernet\n",
    "        # [10]Check the Ethernet Speed to 25G \n",
    "        # [11]Check the Ethernet Speed to 10G \n",
    "        # [12]Check the Ethernet Speed to 1G \n",
    "        *Restore the Ethernet Speed to 10G \n",
    "    ## FLEXPORT EXAMPLE TEST\n",
    "        # ### Flex Port Exampl 1\n",
    "        # ### Flex Port Exampl 2\n",
    "        # ### Flex Port Exampl 3 \n",
    "        # ### Flex Port Exampl 4\n",
    "        # ### Flex Port Exampl 5          \n",
    "    ## FLEXPORT BREAK OUT TEST\n",
    "        # ### Breakout to 25G*4\n",
    "        # ### Breakout to 10G*4\n"
   ]
  },
  {
   "cell_type": "markdown",
   "metadata": {},
   "source": [
    "## Netmiko Connection Function"
   ]
  },
  {
   "cell_type": "code",
   "execution_count": null,
   "metadata": {},
   "outputs": [],
   "source": [
    "from netmiko import ConnectHandler\n",
    "import sys ,time\n",
    "\n",
    "### ++++++++++++++++++++++++++++++ ###\n",
    "### GLOBAL VARIABLES ###\n",
    "result = []\n",
    "\n",
    "### ++++++++++++++++++++++++++++++ ###\n",
    "host = input('Enter the host IP Adddress: ')\n",
    "\n",
    "###### Element of Main Function  ######\n",
    "\n",
    "def disTitle(child,Title):\n",
    "    print(child.send_command(Title))\n",
    "\n",
    "\n",
    "### netmiko connection ### \n",
    "def connect(host):\n",
    "    login ={\n",
    "        'device_type':'cisco_ios',\n",
    "        'ip': host, \n",
    "        'username':'root', \n",
    "        'password':'admin',\n",
    "        'session_timeout': 120,\n",
    "        'timeout': 120,\n",
    "        'global_delay_factor': 2,\n",
    "        }\n",
    "    device = ConnectHandler(**login)\n",
    "    device.enable() ## Enable mode ##\n",
    "    return device\n",
    "\n",
    "### Send CLI in configuration mode ###          \n",
    "def sendConfigSet(host,command):\n",
    "    with connect(host) as child:\n",
    "        child.send_config_set(command)\n",
    "        time.sleep(2)\n",
    "\n",
    "def disSubTitle(child,Title):\n",
    "    print(child.send_command(Title))\n"
   ]
  },
  {
   "cell_type": "markdown",
   "metadata": {},
   "source": [
    "## Flex_Port BASIC Configuration Function"
   ]
  },
  {
   "cell_type": "code",
   "execution_count": null,
   "metadata": {},
   "outputs": [],
   "source": [
    "    \n",
    "### Detach ###  \n",
    "def detach(child):\n",
    "    for intCon in range(1, 13):\n",
    "        flexport_config = f\"flexport-group {intCon}\"\n",
    "        detach_config = [f\"detach member {i}\" for i in range(1, 3)]\n",
    "        config_set = [flexport_config] + detach_config\n",
    "        child.send_config_set(config_set)\n",
    "        time.sleep(1.5)\n",
    "    for intCon in range(13, 17):\n",
    "        flexport_config = f\"flexport-group {intCon}\"\n",
    "        detach_config = [\"detach member all\"]\n",
    "        config_set = [flexport_config] + detach_config\n",
    "        child.send_config_set(config_set)\n",
    "        time.sleep(1.5)\n",
    "\n",
    "### Detach 100G ### \t   \n",
    "def detach100g(child):\n",
    "    for intCon in range (13, 17, 1):\n",
    "        config = [\"flexport-group \" + str(intCon),\"detach member all \"]   \n",
    "        child.send_config_set(config)\n",
    "        time.sleep(1)\n",
    "            \n",
    "### Attach ### \t  \n",
    "def attach(child):\n",
    "    for intCon in range(1, 13):\n",
    "        flexport_config = f\"flexport-group {intCon}\"\n",
    "        detach_config = [f\"attach member {i}\" for i in range(1, 3)]\n",
    "        config_set = [flexport_config] + detach_config\n",
    "        child.send_config_set(config_set)\n",
    "        time.sleep(1.5)\n",
    "\n",
    "### Attach 100G ### \t  \n",
    "def attach100g(child):\n",
    "    for intCon in range (13, 17, 1):\n",
    "        config_set = [\"flexport-group \" + str(intCon),\"attach member all \"]   \n",
    "        child.send_config_set(config_set)\n",
    "        time.sleep(1.5)\n",
    "            \n",
    "\n",
    "### Change ETH to CPRI ###\t \t  \n",
    "def chgEthToCpri(child): \n",
    "    for intCon in range (1, 13, 1):\n",
    "        config_set = [\"flexport-group \" + str(intCon),\"port-type cpri \"]   \n",
    "        child.send_config_set(config_set)\n",
    "        time.sleep(1.5)\n",
    "\n",
    "### Change CPRI to ETH ###\t   \n",
    "def chgCpriToEth(child): \n",
    "    for intCon in range (1, 13, 1):\n",
    "        config = [\"flexport-group \" + str(intCon),\"port-type ethernet \"]   \n",
    "        child.send_config_set(config)\n",
    "        time.sleep(1.5)\n",
    "\n",
    "### Change CPRI Speed CPRI10###\t   \n",
    "def chgCpriSpeed10(child):\n",
    "    for intCon in range (1, 13, 1):\n",
    "        config = [\"flexport-group \" + str(intCon),\"max-speed cpri10 \"]   \n",
    "        child.send_config_set(config)\n",
    "        time.sleep(1.5)\n",
    "\n",
    "### Change CPRI Speed  CPRI8###\t   \n",
    "def chgCpriSpeed8(child):\n",
    "    for intCon in range (1, 13, 1):\n",
    "        config = [\"flexport-group \" + str(intCon),\"max-speed cpri8 \"]   \n",
    "        child.send_config_set(config)\n",
    "        time.sleep(1.5)\n",
    "\n",
    "### Change CPRI Speed  CPRI7###\t   \n",
    "def chgCpriSpeed7(child):\n",
    "    for intCon in range (1, 13, 1):\n",
    "        config = [\"flexport-group \" + str(intCon),\"max-speed cpri7 \"]   \n",
    "        child.send_config_set(config)\n",
    "        time.sleep(1.5)\n",
    "\n",
    "### Change CPRI Speed  CPRI5###\t   \n",
    "def chgCpriSpeed5(child):\n",
    "    for intCon in range (9, 17, 1):\n",
    "        config = [\"interface 1/\" + str(intCon),\"roe cpri option 5 \"]   \n",
    "        child.send_config_set(config)\n",
    "        time.sleep(1.5)\n",
    "\n",
    "### Change CPRI Speed  CPRI3###\t   \n",
    "def chgCpriSpeed3(child):\n",
    "    for intCon in range (1, 9, 1):\n",
    "        config = [\"interface 1/\" + str(intCon),\"roe cpri option 3 \"]   \n",
    "        child.send_config_set(config)\n",
    "        time.sleep(1.5)\n",
    "\n",
    "### ### Restore Speed  CPRI7###\t   \n",
    "def restCpriSpeed7(child):\n",
    "    for intCon in range (1, 13, 1):\n",
    "        config = [\"flexport-group \" + str(intCon),\"max-speed cpri7 \"]   \n",
    "        child.send_config_set(config)\n",
    "        time.sleep(1.5)\n",
    "\n",
    "### Change Speed 25G ### \t  \n",
    "def chgEthSpeed25G(child): \n",
    "    for intCon in range (1, 13, 1):\n",
    "        config = [\"flexport-group \" + str(intCon),\"max-speed 25 \"]   \n",
    "        child.send_config_set(config)\n",
    "        time.sleep(1.5)\n",
    "\n",
    "### Change Speed 10G ### \t \t  \n",
    "def chgEthSpeed10G(child):\n",
    "    for intCon in range (1, 9, 1):\n",
    "        config = [\"flexport-group \" + str(intCon),\"max-speed 10\"]   \n",
    "        child.send_config_set(config)\n",
    "        time.sleep(1.5)\n",
    "\n",
    "### Change Speed 1G ### \t  \n",
    "def chgEthSpeed1G(child):\n",
    "    for intCon in range (1, 9, 1):\n",
    "        config = [\"interface 1/\" + str(intCon),\"speed 1000\"]   \n",
    "        child.send_config_set(config)\n",
    "        time.sleep(1.5)\n",
    "\n",
    "### Restore Speed 10G ### \t \t  \n",
    "def restEthSpeed10G(child):\n",
    "    for intCon in range (1, 13, 1):\n",
    "        config = [\"flexport-group \" + str(intCon),\"max-speed 10\"]   \n",
    "        child.send_config_set(config)\n",
    "        time.sleep(1.5)\n",
    "\n",
    "      \n",
    "### Show Flex Port ###\t  \n",
    "def ShowInFlex(child):\n",
    "    child.send_command(\"show flexport\")\n",
    "    \n",
    "### Show Interface ###\t  \n",
    "def ShowInt(child):\n",
    "    child.send_command(\"show interface status\")\n"
   ]
  },
  {
   "cell_type": "markdown",
   "metadata": {},
   "source": [
    "## Flex_Port Example Configuration Function"
   ]
  },
  {
   "cell_type": "code",
   "execution_count": null,
   "metadata": {},
   "outputs": [],
   "source": [
    "\n",
    "### Sample Code Jae-Hun-Jang ### \n",
    "def attach100g(child):\n",
    "    for intCon in range (13, 17, 1):\n",
    "        config_set = [\"flexport-group \" + {str(intCon)},\"attach member all\"]\n",
    "        child.send_config_set(config_set)\n",
    "        time.sleep(1)\n",
    "### Sample Code Formatting ### \n",
    "def sample_code(child):\n",
    "    for intCon in range(13, 17):\n",
    "        config_set = [f\"flexport-group {intCon}\", \"attach member all\"]\n",
    "        child.send_config_set(config_set)\n",
    "        time.sleep(1)\n",
    "### Sample Code list comprehension ### \n",
    "def sample_code(child):\n",
    "    config_sets = [[f\"flexport-group {intCon}\", \"attach member all\"] for intCon in range(13, 17)]\n",
    "    [child.send_config_set(config_set) for config_set in config_sets]\n",
    "    time.sleep(1)\n",
    "### Sample Code Generator ### \n",
    "def attach100g(child):\n",
    "    config_sets = ([f\"flexport-group {intCon}\", \"attach member all\"] for intCon in range(13, 17))\n",
    "    for config_set in config_sets:\n",
    "        child.send_config_set(config_set)\n",
    "        time.sleep(1)\n",
    "##++++++++++++++++++++++++++++++++++++++====================+++++++###   \n",
    "\n",
    "### Detach 100G ### \t   \n",
    "def detach100g(child):\n",
    "    for intCon in range (13, 17, 1):\n",
    "        config_set = [f\"flexport-group {intCon}\",\"detach member all\"]\n",
    "        child.send_config_set(config_set)\n",
    "        time.sleep(1)\n",
    "\n",
    "### Attach 100G ### \t   \n",
    "def attach100g(child):\n",
    "    for intCon in range (13, 17, 1):\n",
    "        config_set = [f\"flexport-group {intCon}\",\"attach member all\"]\n",
    "        child.send_config_set(config_set)\n",
    "        time.sleep(1)\n",
    "\n",
    "### Change ETH to CPRI ###\t \t  \n",
    "def chgEthToCpri(child):\n",
    "    for intCon in range (1, 13, 1):\n",
    "        config_set = [f\"flexport-group {intCon}\",\"port-type cpri max-speed cpri7\"]\n",
    "        child.send_config_set(config_set)\n",
    "        time.sleep(1) \n",
    "\n",
    "### Change CPRI to ETH ###\t   \n",
    "def chgCpriToEth(child):\n",
    "    for intCon in range (1, 13, 1):\n",
    "        config_set = [f\"flexport-group {intCon}\",\"port-type ethernet max-speed 10\"]\n",
    "        child.send_config_set(config_set)\n",
    "        time.sleep(1) \n",
    "\n",
    "### ### Restore Speed  CPRI7###\t   \n",
    "def restCpriSpeed7(child):\n",
    "    for intCon in range (1, 13, 1):\n",
    "        config_set = [f\"flexport-group {intCon}\",\"max-speed cpri7\"]\n",
    "        child.send_config_set(config_set)\n",
    "        time.sleep(1) \n",
    "\n",
    "### Exanple 1  ###  \n",
    "def example1(child):\n",
    "    config_G1_cpri10 = ('flexport-group 1','max-speed cpri10')\n",
    "    child.send_config_set(config_G1_cpri10)\n",
    "    time.sleep(1.5)\n",
    "    config_G2_cpri10 = ('flexport-group 2','max-speed cpri10')\n",
    "    child.send_config_set(config_G2_cpri10)\n",
    "    time.sleep(1.5)\n",
    "\n",
    "### Exanple 2  ###  \n",
    "def example2(child):\n",
    "    config_G4_cpri8 = ('flexport-group 4','max-speed cpri8')\n",
    "    child.send_config_set(config_G4_cpri8)\n",
    "    time.sleep(1.5)\n",
    "    config_G4_cpri10 = ('flexport-group 4','max-speed cpri10')\n",
    "    child.send_config_set(config_G4_cpri10)\n",
    "    time.sleep(1.5)\n",
    "    config_G3_cpri10 = ('flexport-group 3','max-speed cpri10')\n",
    "    child.send_config_set(config_G3_cpri10)\n",
    "    time.sleep(1.5)  \n",
    "\n",
    "### Exanple 3  ###  \n",
    "def example3(child):\n",
    "    config_G5_cpri8 = ('flexport-group 5','max-speed cpri8')\n",
    "    child.send_config_set(config_G5_cpri8)\n",
    "    time.sleep(1.5)\n",
    "    config_G6_cpri8 = ('flexport-group 6','max-speed cpri8')\n",
    "    child.send_config_set(config_G6_cpri8)\n",
    "    time.sleep(1.5)\n",
    "    config_G5_cpri7 = ('flexport-group 5','max-speed cpri7')\n",
    "    child.send_config_set(config_G5_cpri7)\n",
    "    time.sleep(1.5)  \n",
    "    config_G6_cpri10 = ('flexport-group 6','max-speed cpri10')\n",
    "    child.send_config_set(config_G6_cpri10)\n",
    "    time.sleep(1.5) \n",
    "    config_G5_cpri10 = ('flexport-group 5','max-speed cpri10')\n",
    "    child.send_config_set(config_G5_cpri10)\n",
    "    time.sleep(1.5) \n",
    "\n",
    "### Exanple 4  ###  \n",
    "def example4(child):\n",
    "    config_G7_cpri10 = ('flexport-group 7','max-speed cpri10')\n",
    "    child.send_config_set(config_G7_cpri10)\n",
    "    time.sleep(1.5)\n",
    "    config_G8_cpri10 = ('flexport-group 8','max-speed cpri10')\n",
    "    child.send_config_set(config_G8_cpri10)\n",
    "    time.sleep(1.5)\n",
    "    config_G7_cpri7 = ('flexport-group 7','max-speed cpri7')\n",
    "    child.send_config_set(config_G7_cpri7)\n",
    "    time.sleep(1.5)  \n",
    "    config_G8_cpri8 = ('flexport-group 8','max-speed cpri8')\n",
    "    child.send_config_set(config_G8_cpri8)\n",
    "    time.sleep(1.5) \n",
    "    config_G7_cpri8 = ('flexport-group 7','max-speed cpri8')\n",
    "    child.send_config_set(config_G7_cpri8)\n",
    "    time.sleep(1.5) \n",
    "    \n",
    "\n",
    "### Exanple 5  ###  \n",
    "def example5(child):\n",
    "    config_G9_25 = ('flexport-group 9','max-speed 25')\n",
    "    child.send_config_set(config_G9_25)\n",
    "    time.sleep(1.5)\n",
    "    config_G10_25 = ('flexport-group 10','max-speed 25')\n",
    "    child.send_config_set(config_G10_25)\n",
    "    time.sleep(1.5)\n",
    "    config_G9_10 = ('flexport-group 9','max-speed 10')\n",
    "    child.send_config_set(config_G9_10)\n",
    "    time.sleep(1.5)  \n",
    "    config_G10_cpri7 = ('flexport-group 10','max-speed cpri7')\n",
    "    child.send_config_set(config_G10_cpri7)\n",
    "    time.sleep(1.5) \n",
    "    config_G9_cpri8 = ('flexport-group 9','max-speed cpri8')\n",
    "    child.send_config_set(config_G9_cpri8)\n",
    "    time.sleep(1.5) \n",
    "    config_G10_cpri8 = ('flexport-group 10','max-speed cpri8')\n",
    "    child.send_config_set(config_G10_cpri8)\n",
    "    time.sleep(1.5)     "
   ]
  },
  {
   "cell_type": "markdown",
   "metadata": {},
   "source": [
    "## Flex_Port Break out Configuration Function"
   ]
  },
  {
   "cell_type": "code",
   "execution_count": null,
   "metadata": {},
   "outputs": [],
   "source": [
    "\n",
    "###### Element of Flexport Function  ######\n",
    "\n",
    "### Breakout to 25G*4 ###\t \t  \n",
    "def breakoutTo25G(child):\n",
    "    config_set = [f\"flexport-group {13}\",\"breakout 25g-4x\"]\n",
    "    child.send_config_set(config_set)\n",
    "    time.sleep(1) \n",
    "\n",
    "### Breakout to 10G*4  ###\t   \n",
    "def breakoutTo10G(child):\n",
    "    config_set = [f\"flexport-group {14}\",\"breakout 10g-4x\"]\n",
    "    child.send_config_set(config_set)\n",
    "    time.sleep(1) \n",
    "\n",
    "### Detach 100G ### \t   \n",
    "def detachBreakout(child):\n",
    "    config_set = [f\"flexport-group {14}\",\"detach member all \"]\n",
    "    child.send_config_set(config_set)\n",
    "    time.sleep(1) \n",
    "\n",
    "### Attach 100G ### \t   \n",
    "def attachBreakout(child):\n",
    "    config_set = [f\"flexport-group {14}\",\"attach member all \"]\n",
    "    child.send_config_set(config_set)\n",
    "    time.sleep(1) \n",
    "\n",
    "### No Breakout###\t   \n",
    "def noBreakout(child):\n",
    "    for intCon in range (13, 15):\n",
    "        config_set = [f\"flexport-group {intCon}\",\"no breakout\"]\n",
    "        child.send_config_set(config_set)\n",
    "        time.sleep(1) \n"
   ]
  },
  {
   "cell_type": "markdown",
   "metadata": {},
   "source": [
    "## Flex-Port Configuration check Function   "
   ]
  },
  {
   "cell_type": "code",
   "execution_count": null,
   "metadata": {},
   "outputs": [],
   "source": [
    "### Flex-Port check Function              \n",
    "def get_cli_result(child,command,string,cloum):\n",
    "    # with connect(dut) as child:\n",
    "    command_output = child.send_command(command)\n",
    "    lines = command_output.splitlines()\n",
    "    # print(command_output)\n",
    "    for line in lines:\n",
    "        columns = line.split()        \n",
    "        # Check spanning-tree Mode\n",
    "        if not columns:\n",
    "            continue\n",
    "        elif columns and columns[0] == string : \n",
    "            result = columns[cloum] \n",
    "            print(f'The result of reding spanning CLI is \"{result}\" ')\n",
    "            return result\n",
    "\n",
    "def get_cli_result_search(dut,command,search_string):\n",
    "    with connect(dut) as child:\n",
    "        command_output = child.send_command(command)\n",
    "        lines = command_output.splitlines()\n",
    "        for line in lines:\n",
    "            columns = line.split()        \n",
    "            if not columns:\n",
    "                continue\n",
    "            elif search_string in columns: \n",
    "                print(f'The result of reding string CLI is \"{search_string}\" ')\n",
    "                return True\n",
    "            \n",
    "def count_result(result_list, keyword, expected_count):\n",
    "    print('Key Word: ',keyword)\n",
    "    print('Expected Count: ',expected_count)\n",
    "    result = result_list.count(keyword)\n",
    "    print('Result Count: ',result)\n",
    "    return 'Ok' if result == expected_count else 'Nok'\n",
    "\n",
    "def checkFlexP(status, host):\n",
    "    check_dict = {\n",
    "        \"Detach\": lambda: count_result(result_list, 'disable', 16),\n",
    "        \"Attach\": lambda: count_result(result_list, 'enable', 12),\n",
    "        \"CPRI\": lambda: count_result(result_list, 'cpri', 12),\n",
    "        \"CPRI10\": lambda: count_result(result_list, '60(Gb)', 12),\n",
    "        \"CPRI8\": lambda: count_result(result_list, '50(Gb)', 12),\n",
    "        \"CPRI7\": lambda: count_result(result_list, '20(Gb)', 12),\n",
    "        \"CPRI5\": lambda: count_result(result_list, '4915', 8),\n",
    "        \"CPRI3\": lambda: count_result(result_list, '2457', 8),\n",
    "        \"ETH\": lambda: count_result(result_list, 'ethernet', 16),\n",
    "        \"25G\": lambda: count_result(result_list, '50(Gb)', 12),\n",
    "        \"10G\": lambda: count_result(result_list, '20(Gb)', 8),\n",
    "        \"1G\" : lambda: count_result(result_list, '(ge)', 8)\n",
    "    }\n",
    "    \n",
    "    with connect(host) as child:\n",
    "        result_list = []\n",
    "        flexport = child.send_command('show flexport')\n",
    "        result_list.append(flexport.splitlines())\n",
    "        interfaceState = child.send_command('show int status')\n",
    "        result_list.append(interfaceState.splitlines())\n",
    "        result_list= str(result_list).split()\n",
    "        \n",
    "        if status in check_dict: \n",
    "        # With in, we can check whether the dictionary has a corresponding key.\n",
    "            return check_dict[status]()  # Enter the Key of Dictionary\n",
    "        else:\n",
    "            return \"Invalid status\"\n",
    "\n",
    "\n",
    "# Flex-Port Example check Function \n",
    "def checkFlexPExam(status, host):\n",
    "    check_dict = {\n",
    "        \"Exampl1\": lambda: count_result(result_list, \"60(Gb)\", 2),\n",
    "        \"Exampl2\": lambda: count_result(result_list, \"60(Gb)\", 4),\n",
    "        \"Exampl3\": lambda: count_result(result_list, \"60(Gb)\", 6),\n",
    "        \"Exampl4\": lambda: count_result(result_list, \"50(Gb)\", 2),\n",
    "        \"Exampl5\": lambda: count_result(result_list, \"50(Gb)\", 4),\n",
    "    }\n",
    "    \n",
    "    with connect(host) as sub_child:\n",
    "        result_list = []\n",
    "        flexport = sub_child.send_command('show flexport')\n",
    "        result_list.append(flexport.splitlines())\n",
    "        result_list= str(result_list).split()\n",
    "\n",
    "        if status in check_dict: \n",
    "        # With in, we can check whether the dictionary has a corresponding key.\n",
    "            return check_dict[status]()  # Enter the Key of Dictionary\n",
    "        else:\n",
    "            return \"Invalid status\"\n",
    "\n",
    "# Flex-Port Breakout check Function \n",
    "def checkBreakout(status,host):               \n",
    "    with connect(host) as sub_child:\n",
    "        flexport = sub_child.send_command('show flexport')\n",
    "        # print(flexport)\n",
    "        result_list = flexport.splitlines() ## can,t use a \"readlines\" because the type\n",
    "        result_list= str(result_list).split()\n",
    "\n",
    "    if \"100Gto25G\" in status:   \n",
    "        result1 = result_list.count('25(GbE)')\n",
    "        result2 = result_list.count('breakout')\n",
    "        result3 = result_list.count(\"1/25/1,1/25/2,1/25/3,1/25/4',\")\n",
    "        if result1 == 1 and result2 == 1 and result3 == 1: \n",
    "            return 'Ok' \n",
    "        else:\n",
    "            return 'Nok'\n",
    "    elif \"100Gto10G\" in status:  \n",
    "        result1 = result_list.count('40(Gb)')\n",
    "        result2 = result_list.count('breakout')\n",
    "        result3 = result_list.count(\"1/26/1,1/26/2,1/26/3,1/26/4',\")\n",
    "        if result1 == 1 and result2 == 2 and result3 == 1: \n",
    "            return 'Ok' \n",
    "        else:\n",
    "            return 'Nok'\n",
    "    elif \"detach\" in status: ## Check a flexport type is CPRI\n",
    "        result = result_list.count('breakout')\n",
    "        if result == 2:\n",
    "            return 'Ok' \n",
    "        else:\n",
    "            return 'Nok'\n",
    "    elif \"attach\" in status: ## Check a flexport type is CPRI\n",
    "        result = result_list.count('enable')\n",
    "        if result == 16:\n",
    "            return 'Ok' \n",
    "        else:\n",
    "            return 'Nok'\n",
    "    elif \"noBreakout\" in status: ## Check a flexport type is CPRI\n",
    "        result = result_list.count('breakout')\n",
    "        if result == 0:\n",
    "            return 'Ok' \n",
    "        else:\n",
    "            return 'Nok'\n",
    "        "
   ]
  },
  {
   "cell_type": "markdown",
   "metadata": {},
   "source": [
    "### Flex-Port Configuration check Function  \n",
    "![Example1](image\\BasicCombination.png \"Basic_Combination\")\n",
    "![Example1](image\\AdvancedCombination.png \"Advanced_Combination \")\n",
    "![Example1](image\\AdvancedCombination25G.png \"Advanced_Combination25G\" )"
   ]
  },
  {
   "cell_type": "markdown",
   "metadata": {},
   "source": [
    "#### Flex Port detach ##"
   ]
  },
  {
   "cell_type": "code",
   "execution_count": null,
   "metadata": {},
   "outputs": [],
   "source": [
    "\n",
    "with connect(host) as child:\n",
    "\n",
    "    ### Change Port status to Detach ###       \n",
    "    title = \"### Flex Port detach ###\"\n",
    "    action = 'Detach'\n",
    "    disTitle(child,title)\n",
    "    detach(child)\n",
    "    time.sleep(15)\n",
    "    result.append(checkFlexP(action,host))\n",
    "    time.sleep(1)\n",
    "    result"
   ]
  },
  {
   "cell_type": "markdown",
   "metadata": {},
   "source": [
    "#### Flex Port Attach ##"
   ]
  },
  {
   "cell_type": "code",
   "execution_count": null,
   "metadata": {},
   "outputs": [],
   "source": [
    "with connect(host) as child:\n",
    "    title = \"### Flex Port Attach ###\"\n",
    "    action = 'Attach'\n",
    "    disTitle(child,title)\n",
    "    attach(child)\n",
    "    time.sleep(15)\n",
    "    result.append(checkFlexP(action,host))\n",
    "    time.sleep(1)\n",
    "    print(result)"
   ]
  },
  {
   "cell_type": "markdown",
   "metadata": {},
   "source": [
    "#### Change Flex Port To CPRI "
   ]
  },
  {
   "cell_type": "code",
   "execution_count": null,
   "metadata": {},
   "outputs": [],
   "source": [
    "with connect(host) as child:\n",
    "    title = \"### Change Flex Port To CPRI ###\"\n",
    "    action = 'CPRI'\n",
    "    disTitle(child,title)\n",
    "    chgEthToCpri(child)\n",
    "    time.sleep(15)\n",
    "    result.append(checkFlexP(action,host))\n",
    "    time.sleep(1)\n",
    "    print(result)"
   ]
  },
  {
   "cell_type": "markdown",
   "metadata": {},
   "source": [
    "#### Change CPRI Speed CPRI10 "
   ]
  },
  {
   "cell_type": "code",
   "execution_count": null,
   "metadata": {},
   "outputs": [],
   "source": [
    "with connect(host) as child:      \t  \n",
    "    title = \"### Change CPRI Speed CPRI10###\"\t   \n",
    "    action = 'CPRI10'\n",
    "    disTitle(child,title)\n",
    "    chgCpriSpeed10(child)\n",
    "    time.sleep(15)\n",
    "    result.append(checkFlexP(action,host))\n",
    "    time.sleep(1)\n",
    "    print(result)"
   ]
  },
  {
   "cell_type": "markdown",
   "metadata": {},
   "source": [
    "#### Change CPRI Speed CPRI7 ###\t"
   ]
  },
  {
   "cell_type": "code",
   "execution_count": null,
   "metadata": {},
   "outputs": [],
   "source": [
    "with connect(host) as child:  \n",
    "    title = \"### Change CPRI Speed CPRI7###\"\t   \n",
    "    action = 'CPRI7'\n",
    "    disTitle(child,title)\n",
    "    chgCpriSpeed7(child)\n",
    "    time.sleep(15)\n",
    "    result.append(checkFlexP(action,host))\n",
    "    time.sleep(1)\n",
    "    print(result)"
   ]
  },
  {
   "cell_type": "markdown",
   "metadata": {},
   "source": [
    "#### Change CPRI Speed CPRI5 ###\t"
   ]
  },
  {
   "cell_type": "code",
   "execution_count": null,
   "metadata": {},
   "outputs": [],
   "source": [
    "with connect(host) as child:  \n",
    "    title = \"### Change CPRI Speed CPRI5###\"\t   \n",
    "    action = 'CPRI5'\n",
    "    disTitle(child,title)\n",
    "    chgCpriSpeed5(child)\n",
    "    time.sleep(15)\n",
    "    result.append(checkFlexP(action,host))\n",
    "    time.sleep(1)\n",
    "    print(result)"
   ]
  },
  {
   "cell_type": "markdown",
   "metadata": {},
   "source": [
    "#### Change CPRI Speed CPRI3 ###\t"
   ]
  },
  {
   "cell_type": "code",
   "execution_count": null,
   "metadata": {},
   "outputs": [],
   "source": [
    "with connect(host) as child:   \n",
    "    title = \"### Change CPRI Speed CPRI3###\"\t   \n",
    "    action = 'CPRI3'\n",
    "    disTitle(child,title)\n",
    "    chgCpriSpeed3(child)\n",
    "    time.sleep(15)\n",
    "    result.append(checkFlexP(action,host))\n",
    "    time.sleep(1)\n",
    "    print(result)"
   ]
  },
  {
   "cell_type": "markdown",
   "metadata": {},
   "source": [
    "#### Change CPRI Speed CPRI8 ###\t"
   ]
  },
  {
   "cell_type": "code",
   "execution_count": null,
   "metadata": {},
   "outputs": [],
   "source": [
    "with connect(host) as child:    \n",
    "    title = \"### Change CPRI Speed CPRI8###\"\t   \n",
    "    action = 'CPRI8'\n",
    "    disTitle(child,title)\n",
    "    chgCpriSpeed8(child)\n",
    "    time.sleep(15)\n",
    "    result.append(checkFlexP(action,host))\n",
    "    time.sleep(1)\n",
    "    print(result)"
   ]
  },
  {
   "cell_type": "markdown",
   "metadata": {},
   "source": [
    "#### Restore Cpri Speed CPRI7 ###"
   ]
  },
  {
   "cell_type": "code",
   "execution_count": null,
   "metadata": {},
   "outputs": [],
   "source": [
    "with connect(host) as child:\n",
    "    restCpriSpeed7(child)\n",
    "    time.sleep(1)"
   ]
  },
  {
   "cell_type": "markdown",
   "metadata": {},
   "source": [
    "#### Change Flex Port To ETH ###"
   ]
  },
  {
   "cell_type": "code",
   "execution_count": null,
   "metadata": {},
   "outputs": [],
   "source": [
    "with connect(host) as child:  \n",
    "    title = \"### Change Flex Port To ETH ###\"\n",
    "    action = 'ETH'\n",
    "    disTitle(child,title)\n",
    "    chgCpriToEth(child)\n",
    "    time.sleep(15)\n",
    "    result.append(checkFlexP(action,host))\n",
    "    time.sleep(1)\n",
    "    print(result)"
   ]
  },
  {
   "cell_type": "markdown",
   "metadata": {},
   "source": [
    "#### Change Ethernet Speed 25G ###"
   ]
  },
  {
   "cell_type": "code",
   "execution_count": null,
   "metadata": {},
   "outputs": [],
   "source": [
    "with connect(host) as child: \n",
    "    Title = \"### Change Ethernet Speed 25G ###\" \n",
    "    action = '25G'\n",
    "    disTitle(child,Title)\n",
    "    chgEthSpeed25G(child)\n",
    "    time.sleep(15) \n",
    "    result.append(checkFlexP(action,host))\n",
    "    time.sleep(1)\n",
    "    print(result)"
   ]
  },
  {
   "cell_type": "markdown",
   "metadata": {},
   "source": [
    "#### Change Ethernet Speed 10G ###"
   ]
  },
  {
   "cell_type": "code",
   "execution_count": null,
   "metadata": {},
   "outputs": [],
   "source": [
    "with connect(host) as child: \n",
    "    Title = \"### Change Ethernet Speed 10G ###\" \n",
    "    action = '10G'\n",
    "    disTitle(child,Title)\n",
    "    chgEthSpeed10G(child)\n",
    "    time.sleep(15)      \n",
    "    result.append(checkFlexP(action,host))\n",
    "    time.sleep(1)\n",
    "    print(result)"
   ]
  },
  {
   "cell_type": "markdown",
   "metadata": {},
   "source": [
    "#### Change Ethernet Speed 1G ###"
   ]
  },
  {
   "cell_type": "code",
   "execution_count": null,
   "metadata": {},
   "outputs": [],
   "source": [
    "with connect(host) as child: \n",
    "    Title = \"### Change Ethernet Speed 1G ###\"\n",
    "    action = '1G'\n",
    "    disTitle(child,Title)\n",
    "    chgEthSpeed1G(child)\n",
    "    time.sleep(15)   \n",
    "    result.append(checkFlexP(action,host))\n",
    "    time.sleep(1)\n",
    "    print(result)"
   ]
  },
  {
   "cell_type": "markdown",
   "metadata": {},
   "source": [
    "#### Restore Ethernet Speed 10G ###"
   ]
  },
  {
   "cell_type": "code",
   "execution_count": null,
   "metadata": {},
   "outputs": [],
   "source": [
    "with connect(host) as child:\n",
    "    restEthSpeed10G(child)\n",
    "    time.sleep(15)\n",
    "    \n",
    "    print(result)\n",
    "    print('Succecc count: ' ,result.count('Ok'))"
   ]
  },
  {
   "cell_type": "markdown",
   "metadata": {},
   "source": [
    "#### Change Flex Port To CPRI ###"
   ]
  },
  {
   "cell_type": "code",
   "execution_count": null,
   "metadata": {},
   "outputs": [],
   "source": [
    "result = []\n",
    "with connect(host) as child:\n",
    "    ### Change Flex Port To CPRI ###\n",
    "    title = \"### Change Flex Port To CPRI ###\"\n",
    "    action = 'CPRI'\n",
    "    disSubTitle(child,title)\n",
    "    detach100g(child)\n",
    "    time.sleep(5)\n",
    "    chgEthToCpri(child)\n",
    "    time.sleep(10)\n",
    "    result.append(checkFlexP(action,host))\n",
    "    time.sleep(1)"
   ]
  },
  {
   "cell_type": "markdown",
   "metadata": {},
   "source": [
    "### Flex-Port Example Configuration check Function   "
   ]
  },
  {
   "cell_type": "markdown",
   "metadata": {},
   "source": [
    "#### Flex Port Exampl 1 ###  \n",
    "![Example1](image\\Example1.png)"
   ]
  },
  {
   "cell_type": "code",
   "execution_count": null,
   "metadata": {},
   "outputs": [],
   "source": [
    "with connect(host) as child:\n",
    "    ### Flex Port 'Exampl1 ###       \n",
    "    title = \"### Flex Port 'Exampl1' ###\"\n",
    "    action = 'Exampl1'\n",
    "    disSubTitle(child,title)\n",
    "    example1(child)\n",
    "    time.sleep(5)\n",
    "    result.append(checkFlexPExam(action,host))\n",
    "    time.sleep(1)"
   ]
  },
  {
   "cell_type": "markdown",
   "metadata": {},
   "source": [
    "#### Flex Port 'Exampl 2 ###  \n",
    "![Example1](image\\Example2.png)"
   ]
  },
  {
   "cell_type": "code",
   "execution_count": null,
   "metadata": {},
   "outputs": [],
   "source": [
    "with connect(host) as child:\n",
    "    ### Flex Port 'Exampl2 ###       \n",
    "    title = \"### Flex Port 'Exampl2' ###\"\n",
    "    action = 'Exampl2'\n",
    "    disSubTitle(child,title)\n",
    "    example2(child)\n",
    "    time.sleep(5)\n",
    "    result.append(checkFlexPExam(action,host))\n",
    "    time.sleep(1)"
   ]
  },
  {
   "cell_type": "markdown",
   "metadata": {},
   "source": [
    "#### Flex Port 'Exampl 3 ###  \n",
    "![Example1](image\\Example3.png)"
   ]
  },
  {
   "cell_type": "code",
   "execution_count": null,
   "metadata": {},
   "outputs": [],
   "source": [
    "with connect(host) as child:\n",
    "        ### Flex Port 'Exampl3 ###       \n",
    "        title = \"### Flex Port 'Exampl3' ###\"\n",
    "        action = 'Exampl3'\n",
    "        disSubTitle(child,title)\n",
    "        example3(child)\n",
    "        time.sleep(5)\n",
    "        result.append(checkFlexPExam(action,host))\n",
    "        time.sleep(1)"
   ]
  },
  {
   "cell_type": "markdown",
   "metadata": {},
   "source": [
    "#### Flex Port 'Exampl 4 ###  \n",
    "![Example1](image\\Example4.png)"
   ]
  },
  {
   "cell_type": "code",
   "execution_count": null,
   "metadata": {},
   "outputs": [],
   "source": [
    "with connect(host) as child:\n",
    "        ### Flex Port 'Exampl4 ###       \n",
    "        title = \"### Flex Port 'Exampl4' ###\"\n",
    "        action = 'Exampl4'\n",
    "        disSubTitle(child,title)\n",
    "        example4(child)\n",
    "        time.sleep(5)\n",
    "        result.append(checkFlexPExam(action,host))\n",
    "        time.sleep(1)"
   ]
  },
  {
   "cell_type": "markdown",
   "metadata": {},
   "source": [
    "#### Flex Port 'Exampl 5 ###  \n",
    "![Example1](image\\Example5.png)"
   ]
  },
  {
   "cell_type": "code",
   "execution_count": null,
   "metadata": {},
   "outputs": [],
   "source": [
    "with connect(host) as child:\n",
    "        ### Flex Port 'Exampl5 ###       \n",
    "        title = \"### Flex Port 'Exampl5' ###\"\n",
    "        action = 'Exampl5'\n",
    "        disSubTitle(child,title)\n",
    "        example5(child)\n",
    "        time.sleep(5)\n",
    "        result.append(checkFlexPExam(action,host))\n",
    "        time.sleep(1)"
   ]
  },
  {
   "cell_type": "markdown",
   "metadata": {},
   "source": [
    "#### Restore CPRI Speed to CPRI7 AND Change Flex Port type To ETH"
   ]
  },
  {
   "cell_type": "code",
   "execution_count": null,
   "metadata": {},
   "outputs": [],
   "source": [
    "with connect(host) as child:\n",
    "        ### Restore Cpri Speed CPRI7 ###\n",
    "        restCpriSpeed7(child)\n",
    "        time.sleep(10)\n",
    "\n",
    "        ### Change Flex Port To ETH ###\n",
    "        title = \"### Change Flex Port To ETH ###\"\n",
    "        action = 'ETH'\n",
    "        disSubTitle(child,title)\n",
    "        attach100g(child)\n",
    "        time.sleep(5)   \n",
    "        chgCpriToEth(child)\n",
    "        time.sleep(10)\n",
    "        result.append(checkFlexP(action,host))\n",
    "        time.sleep(1)"
   ]
  },
  {
   "cell_type": "markdown",
   "metadata": {},
   "source": [
    "### Flex-Port Break out Configuration check Function   "
   ]
  },
  {
   "cell_type": "markdown",
   "metadata": {},
   "source": [
    "#### Breakout to 25G*4"
   ]
  },
  {
   "cell_type": "code",
   "execution_count": null,
   "metadata": {},
   "outputs": [],
   "source": [
    "with connect(host) as child:\n",
    "    ### Breakout to 25G*4 ###\n",
    "    title = \"### Breakout to 25G*4 ###\"\n",
    "    action = '100Gto25G'\n",
    "    disTitle(child,title)\n",
    "    breakoutTo25G(child)\n",
    "    time.sleep(5)\n",
    "    result.append(checkBreakout(action,host))\n",
    "    time.sleep(1)\n",
    "    print(result)"
   ]
  },
  {
   "cell_type": "markdown",
   "metadata": {},
   "source": [
    "#### Breakout to 10G*4 "
   ]
  },
  {
   "cell_type": "code",
   "execution_count": null,
   "metadata": {},
   "outputs": [],
   "source": [
    "with connect(host) as child: \n",
    "        ### Breakout to 10G*4 ###       \n",
    "        title = \"### Breakout to 10G*4 ###\"\n",
    "        action = '100Gto10G'\n",
    "        disSubTitle(child,title)\n",
    "        breakoutTo10G(child)\n",
    "        time.sleep(5)\n",
    "        result.append(checkBreakout(action,host))\n",
    "        time.sleep(1)\n",
    "        print(result)"
   ]
  },
  {
   "cell_type": "markdown",
   "metadata": {},
   "source": [
    "#### release Breakout "
   ]
  },
  {
   "cell_type": "code",
   "execution_count": null,
   "metadata": {},
   "outputs": [],
   "source": [
    "with connect(host) as child: \n",
    "        ### release Breakout  ###       \n",
    "        title = \"### release Breakout ###\"\n",
    "        action = 'noBreakout'\n",
    "        disSubTitle(child,title)\n",
    "        noBreakout(child)\n",
    "        time.sleep(5)\n",
    "        result.append(checkBreakout(action,host))\n",
    "        time.sleep(1)\n",
    "        print(result)"
   ]
  },
  {
   "cell_type": "markdown",
   "metadata": {},
   "source": [
    "## Image Test\n",
    "![Example1](image\\jupyter.png)\n",
    "\n",
    "[OpenAI](https://www.openai.com/)"
   ]
  }
 ],
 "metadata": {
  "kernelspec": {
   "display_name": "Python 3",
   "language": "python",
   "name": "python3"
  },
  "language_info": {
   "codemirror_mode": {
    "name": "ipython",
    "version": 3
   },
   "file_extension": ".py",
   "mimetype": "text/x-python",
   "name": "python",
   "nbconvert_exporter": "python",
   "pygments_lexer": "ipython3",
   "version": "3.11.4"
  }
 },
 "nbformat": 4,
 "nbformat_minor": 2
}
